{
 "nbformat": 4,
 "nbformat_minor": 2,
 "metadata": {
  "language_info": {
   "name": "python",
   "codemirror_mode": {
    "name": "ipython",
    "version": 3
   },
   "version": "3.7.4"
  },
  "orig_nbformat": 2,
  "file_extension": ".py",
  "mimetype": "text/x-python",
  "name": "python",
  "npconvert_exporter": "python",
  "pygments_lexer": "ipython3",
  "version": 3
 },
 "cells": [
  {
   "cell_type": "markdown",
   "execution_count": null,
   "metadata": {},
   "outputs": [],
   "source": [
    "### Enable debug logging"
   ]
  },
  {
   "cell_type": "code",
   "execution_count": 1,
   "metadata": {},
   "outputs": [],
   "source": [
    "import logging\n",
    "logging.basicConfig(level=logging.DEBUG)\n"
   ]
  },
  {
   "cell_type": "markdown",
   "execution_count": 2,
   "metadata": {},
   "outputs": [],
   "source": [
    "### Initialise the Explorer with a connection to the Aircloak server"
   ]
  },
  {
   "cell_type": "code",
   "execution_count": 2,
   "metadata": {},
   "outputs": [
    {
     "name": "stderr",
     "output_type": "stream",
     "text": "DEBUG:root:Connecting to Aircloak: user=daniel-613C7ADF4535BB56DBCD, host=attack.aircloak.com, port=9432, dbname=GiveMeSomeCredit\nDEBUG:root:Sending query: \n        SHOW TABLES\n    \nDEBUG:root:Sending query: \n        SHOW COLUMNS FROM \"loans\"\n    \nColumnInfo(type='integer', isolator='false', id=None)\n"
    }
   ],
   "source": [
    "\n",
    "from explorer.connection import AircloakConnection\n",
    "\n",
    "aircloak = AircloakConnection(dbname='GiveMeSomeCredit')\n",
    "print(aircloak.column_info('loans', 'MonthlyIncome'))"
   ]
  },
  {
   "cell_type": "code",
   "execution_count": 3,
   "metadata": {},
   "outputs": [
    {
     "name": "stderr",
     "output_type": "stream",
     "text": "DEBUG:root:Sending query: \n        SELECT\n            min(\"MonthlyIncome\")\n        ,   max(\"MonthlyIncome\")\n        ,   avg(\"MonthlyIncome\")\n        ,   count(*)\n        ,   count_noise(*)\n        FROM \"loans\"\n    \nDEBUG:root:Sending query: \n        SELECT\n            \"MonthlyIncome\"\n        ,   count(*)\n        FROM \"loans\"\n        WHERE \"MonthlyIncome\" IS NOT NULL\n        GROUP BY 1\n    \nDEBUG:root:Estimating bucket size for:\n                range 57538,\n                count 150000,\n                num buckets 100,\n                min bucket count 20\nDEBUG:root:Precision bound: 575.38, Size bound: 7.671733333333333\nDEBUG:root:Options are: [100, 200, 10, 50, 20, 500]\nDEBUG:root:Returning bucket size 500\n"
    }
   ],
   "source": [
    "from explorer.numeric_explorer import NumericColumnExplorer\n",
    "e = NumericColumnExplorer(aircloak_connection=aircloak, table='loans', column='MonthlyIncome')\n"
   ]
  },
  {
   "cell_type": "markdown",
   "execution_count": null,
   "metadata": {},
   "outputs": [],
   "source": [
    "### Explore some buckets: the following will dig three levels deep in the bucket hierarchy"
   ]
  },
  {
   "cell_type": "code",
   "execution_count": 4,
   "metadata": {},
   "outputs": [
    {
     "name": "stderr",
     "output_type": "stream",
     "text": "DEBUG:root:Sending query: \n    SELECT\n        bucket(\"MonthlyIncome\" by 50) as \"bucket_50\"\n, bucket(\"MonthlyIncome\" by 100) as \"bucket_100\"\n, bucket(\"MonthlyIncome\" by 500) as \"bucket_500\"\n    ,   count(*)\n    ,   count_noise(*)\n    ,   min(\"MonthlyIncome\")\n    ,   max(\"MonthlyIncome\")\n    ,   avg(\"MonthlyIncome\")\n    FROM \"loans\"\n    WHERE \"MonthlyIncome\" IS NOT NULL\n    GROUP BY GROUPING SETS (1, 2, 3)\n    \nDEBUG:root:Received query results, processing...\nDEBUG:root:... finished processing query results.\n"
    }
   ],
   "source": [
    "e.explore()"
   ]
  },
  {
   "cell_type": "markdown",
   "execution_count": null,
   "metadata": {},
   "outputs": [],
   "source": [
    "### Dig a little deeper"
   ]
  },
  {
   "cell_type": "code",
   "execution_count": 5,
   "metadata": {},
   "outputs": [
    {
     "name": "stderr",
     "output_type": "stream",
     "text": "DEBUG:root:Sending query: \n    SELECT\n        bucket(\"MonthlyIncome\" by 10) as \"bucket_10\"\n    ,   count(*)\n    ,   count_noise(*)\n    ,   min(\"MonthlyIncome\")\n    ,   max(\"MonthlyIncome\")\n    ,   avg(\"MonthlyIncome\")\n    FROM \"loans\"\n    WHERE \"MonthlyIncome\" IS NOT NULL\n    GROUP BY GROUPING SETS (1)\n    \nDEBUG:root:Received query results, processing...\nDEBUG:root:... finished processing query results.\n"
    }
   ],
   "source": [
    "e.explore(1)"
   ]
  },
  {
   "cell_type": "markdown",
   "execution_count": 26,
   "metadata": {},
   "outputs": [],
   "source": [
    "### Extract to pandas dataframe for analysis"
   ]
  },
  {
   "cell_type": "code",
   "execution_count": 6,
   "metadata": {},
   "outputs": [
    {
     "name": "stdout",
     "output_type": "stream",
     "text": "<class 'pandas.core.frame.DataFrame'>\nInt64Index: 13304 entries, 500 to 10\nData columns (total 6 columns):\nlower_bound    13304 non-null float64\ncount          13304 non-null float64\ncount_noise    2633 non-null float64\nmin            2122 non-null float64\nmax            2122 non-null float64\navg            2633 non-null float64\ndtypes: float64(6)\nmemory usage: 727.6 KB\n"
    }
   ],
   "source": [
    "import pandas as pd\n",
    "\n",
    "df = pd.DataFrame(**e.extract_to_dataframe())\n",
    "df = df.set_index(['bucket_size'])\n",
    "df.info()"
   ]
  },
  {
   "cell_type": "markdown",
   "execution_count": null,
   "metadata": {},
   "outputs": [],
   "source": [
    "### Plot column distribution as a bar chart"
   ]
  },
  {
   "cell_type": "code",
   "execution_count": 8,
   "metadata": {},
   "outputs": [
    {
     "data": {
      "application/vnd.plotly.v1+json": {
       "config": {
        "plotlyServerURL": "https://plot.ly"
       },
       "data": [
        {
         "alignmentgroup": "True",
         "customdata": [
          [
           0,
           2692,
           2,
           481,
           1.4000000000000001
          ],
          [
           500,
           1735,
           474,
           1023,
           1.4000000000000001
          ],
          [
           1000,
           2627,
           957,
           1549,
           1.4000000000000001
          ],
          [
           1500,
           3830,
           1457,
           2055,
           1.4000000000000001
          ],
          [
           2000,
           5673,
           1950,
           2570,
           1.4000000000000001
          ],
          [
           2500,
           6768,
           2450,
           3078,
           1.4000000000000001
          ],
          [
           3000,
           7745,
           2950,
           3575,
           1.4000000000000001
          ],
          [
           3500,
           7221,
           3456,
           4064,
           1.4000000000000001
          ],
          [
           4000,
           8319,
           3963,
           4566,
           1.4000000000000001
          ],
          [
           4500,
           6494,
           4463,
           5059,
           1.4000000000000001
          ],
          [
           5000,
           8270,
           4946,
           5600,
           1.4000000000000001
          ],
          [
           5500,
           5771,
           5460,
           6054,
           1.4000000000000001
          ],
          [
           6000,
           6415,
           5958,
           6578,
           1.4000000000000001
          ],
          [
           6500,
           5016,
           6468,
           7049,
           1.4000000000000001
          ],
          [
           7000,
           4893,
           6955,
           7580,
           1.4000000000000001
          ],
          [
           7500,
           4227,
           7450,
           8081,
           1.4000000000000001
          ],
          [
           8000,
           4417,
           7951,
           8577,
           1.4000000000000001
          ],
          [
           8500,
           3077,
           8458,
           9058,
           1.4000000000000001
          ],
          [
           9000,
           3023,
           8959,
           9572,
           1.4000000000000001
          ],
          [
           9500,
           2270,
           9455,
           10064,
           1.4000000000000001
          ],
          [
           10000,
           3125,
           9955,
           10614,
           1.4000000000000001
          ],
          [
           10500,
           2455,
           10458,
           11097,
           1.4000000000000001
          ],
          [
           11000,
           1692,
           10957,
           11576,
           1.4000000000000001
          ],
          [
           11500,
           1227,
           11472,
           12040,
           1.4000000000000001
          ],
          [
           12000,
           1452,
           11957,
           12598,
           1.4000000000000001
          ],
          [
           12500,
           1266,
           12450,
           13108,
           1.4000000000000001
          ],
          [
           13000,
           997,
           12951,
           13583,
           1.4000000000000001
          ],
          [
           13500,
           655,
           13474,
           14040,
           1.4000000000000001
          ],
          [
           14000,
           706,
           13964,
           14575,
           1.4000000000000001
          ],
          [
           14500,
           506,
           14466,
           15062,
           1.4000000000000001
          ],
          [
           15000,
           760,
           14966,
           15610,
           1.4000000000000001
          ],
          [
           15500,
           416,
           15446,
           16060,
           1.4000000000000001
          ],
          [
           16000,
           441,
           15966,
           16583,
           1.4000000000000001
          ],
          [
           16500,
           383,
           16498,
           17001,
           1.4000000000000001
          ],
          [
           17000,
           323,
           16952,
           17598,
           1.4000000000000001
          ],
          [
           17500,
           263,
           17445,
           18092,
           1.4000000000000001
          ],
          [
           18000,
           303,
           17956,
           18583,
           1.4000000000000001
          ],
          [
           18500,
           196,
           18466,
           19036,
           1.4000000000000001
          ],
          [
           19000,
           175,
           18964,
           19578,
           1.4000000000000001
          ],
          [
           19500,
           115,
           19464,
           20042,
           1.4000000000000001
          ],
          [
           20000,
           293,
           19994,
           20509,
           1.4000000000000001
          ],
          [
           20500,
           146,
           20483,
           21013,
           1.4000000000000001
          ],
          [
           21000,
           110,
           20975,
           21571,
           1.4000000000000001
          ],
          [
           21500,
           83,
           21468,
           22007,
           1.4000000000000001
          ],
          [
           22000,
           96,
           21960,
           22609,
           1.4000000000000001
          ],
          [
           22500,
           77,
           22413,
           23068,
           1.4000000000000001
          ],
          [
           23000,
           81,
           22941,
           23584,
           1.4000000000000001
          ],
          [
           23500,
           45,
           23441,
           24079,
           1.4000000000000001
          ],
          [
           24000,
           63,
           23990,
           24534,
           1.4000000000000001
          ],
          [
           24500,
           27,
           24460,
           25056,
           1.4000000000000001
          ],
          [
           25000,
           172,
           25002,
           25456,
           1.4000000000000001
          ],
          [
           25500,
           37,
           25464,
           26040,
           1.4000000000000001
          ],
          [
           26000,
           36,
           25984,
           26549,
           1.4000000000000001
          ],
          [
           26500,
           33,
           26484,
           26939,
           1.4000000000000001
          ],
          [
           27000,
           44,
           26954,
           27597,
           1.4000000000000001
          ],
          [
           27500,
           16,
           27360,
           28067,
           1.4000000000000001
          ],
          [
           28000,
           50,
           27952,
           28607,
           1.4000000000000001
          ],
          [
           28500,
           12,
           28574,
           28970,
           1.4000000000000001
          ],
          [
           29000,
           41,
           28990,
           29484,
           1.4000000000000001
          ],
          [
           29500,
           8,
           29433,
           30016,
           1.4000000000000001
          ],
          [
           30000,
           87,
           29997,
           30462,
           1.4000000000000001
          ],
          [
           30500,
           12,
           30414,
           31062,
           1.4000000000000001
          ],
          [
           31000,
           27,
           30954,
           31500,
           1.4000000000000001
          ],
          [
           31500,
           12,
           31436,
           31949,
           1.4000000000000001
          ],
          [
           32000,
           23,
           31991,
           32468,
           1.4000000000000001
          ],
          [
           32500,
           11,
           32465,
           32950,
           1.4000000000000001
          ],
          [
           33000,
           35,
           32953,
           33525,
           1.4000000000000001
          ],
          [
           33500,
           10,
           33437,
           33976,
           1.4000000000000001
          ],
          [
           34000,
           16,
           33976,
           34325,
           1.4000000000000001
          ],
          [
           34500,
           8,
           null,
           null,
           1.4000000000000001
          ],
          [
           35000,
           34,
           34970,
           35542,
           1.4000000000000001
          ],
          [
           35500,
           12,
           35439,
           36072,
           1.4000000000000001
          ],
          [
           36000,
           13,
           35992,
           36503,
           1.4000000000000001
          ],
          [
           36500,
           0,
           null,
           null,
           null
          ],
          [
           37000,
           10,
           36890,
           37467,
           1.4000000000000001
          ],
          [
           37500,
           17,
           37489,
           37853,
           1.4000000000000001
          ],
          [
           38000,
           7,
           37837,
           38605,
           1.4000000000000001
          ],
          [
           38500,
           0,
           null,
           null,
           null
          ],
          [
           39000,
           8,
           null,
           null,
           1.4000000000000001
          ],
          [
           39500,
           11,
           39389,
           40162,
           1.4000000000000001
          ],
          [
           40000,
           51,
           40002,
           40367,
           1.4000000000000001
          ],
          [
           40500,
           4,
           null,
           null,
           1.4000000000000001
          ],
          [
           41000,
           7,
           40937,
           41521,
           1.4000000000000001
          ],
          [
           41500,
           19,
           41508,
           41670,
           1.4000000000000001
          ],
          [
           42000,
           7,
           41914,
           42525,
           1.4000000000000001
          ],
          [
           42500,
           5,
           null,
           null,
           1.4000000000000001
          ],
          [
           43000,
           12,
           null,
           null,
           1.4000000000000001
          ],
          [
           43500,
           0,
           null,
           null,
           null
          ],
          [
           44000,
           7,
           43837,
           44571,
           1.4000000000000001
          ],
          [
           44500,
           4,
           null,
           null,
           1.4000000000000001
          ],
          [
           45000,
           13,
           44999,
           45302,
           1.4000000000000001
          ],
          [
           45500,
           7,
           null,
           null,
           1.4000000000000001
          ],
          [
           46000,
           0,
           null,
           null,
           null
          ],
          [
           46500,
           0,
           null,
           null,
           null
          ],
          [
           47000,
           0,
           null,
           null,
           null
          ],
          [
           47500,
           2,
           null,
           null,
           null
          ],
          [
           48000,
           7,
           null,
           null,
           1.4000000000000001
          ],
          [
           48500,
           0,
           null,
           null,
           null
          ],
          [
           49000,
           0,
           null,
           null,
           null
          ],
          [
           49500,
           2,
           null,
           null,
           1.4000000000000001
          ],
          [
           50000,
           22,
           50003,
           50397,
           1.4000000000000001
          ],
          [
           50500,
           2,
           null,
           null,
           1.4000000000000001
          ],
          [
           51000,
           0,
           null,
           null,
           null
          ],
          [
           51500,
           0,
           null,
           null,
           null
          ],
          [
           52000,
           3,
           null,
           null,
           1.4000000000000001
          ],
          [
           52500,
           0,
           null,
           null,
           null
          ],
          [
           53000,
           4,
           null,
           null,
           1.4000000000000001
          ],
          [
           53500,
           5,
           null,
           null,
           1.4000000000000001
          ],
          [
           54000,
           10,
           null,
           null,
           1.4000000000000001
          ],
          [
           54500,
           0,
           null,
           null,
           null
          ],
          [
           55000,
           5,
           null,
           null,
           1.4000000000000001
          ],
          [
           55500,
           0,
           null,
           null,
           null
          ],
          [
           56000,
           2,
           null,
           null,
           1.4000000000000001
          ],
          [
           56500,
           0,
           null,
           null,
           null
          ],
          [
           57000,
           10,
           null,
           null,
           1.4000000000000001
          ],
          [
           57500,
           2,
           null,
           null,
           null
          ],
          [
           58000,
           9,
           null,
           null,
           1.4000000000000001
          ],
          [
           58500,
           0,
           null,
           null,
           null
          ],
          [
           59000,
           0,
           null,
           null,
           null
          ],
          [
           59500,
           0,
           null,
           null,
           null
          ],
          [
           60000,
           8,
           59985,
           60248,
           1.4000000000000001
          ],
          [
           60500,
           0,
           null,
           null,
           null
          ],
          [
           61000,
           4,
           null,
           null,
           1.4000000000000001
          ],
          [
           61500,
           0,
           null,
           null,
           null
          ],
          [
           62000,
           6,
           null,
           null,
           1.4000000000000001
          ],
          [
           62500,
           6,
           null,
           null,
           1.4000000000000001
          ],
          [
           63000,
           0,
           null,
           null,
           null
          ],
          [
           63500,
           0,
           null,
           null,
           null
          ],
          [
           64000,
           0,
           null,
           null,
           null
          ],
          [
           64500,
           0,
           null,
           null,
           null
          ],
          [
           65000,
           8,
           64948,
           65593,
           1.4000000000000001
          ],
          [
           65500,
           0,
           null,
           null,
           null
          ],
          [
           66000,
           2,
           null,
           null,
           1.4000000000000001
          ],
          [
           66500,
           0,
           null,
           null,
           null
          ],
          [
           67000,
           0,
           null,
           null,
           null
          ],
          [
           67500,
           0,
           null,
           null,
           null
          ],
          [
           68000,
           0,
           null,
           null,
           null
          ],
          [
           68500,
           0,
           null,
           null,
           null
          ],
          [
           69000,
           0,
           null,
           null,
           null
          ],
          [
           69500,
           0,
           null,
           null,
           null
          ],
          [
           70000,
           10,
           null,
           null,
           1.4000000000000001
          ],
          [
           70500,
           0,
           null,
           null,
           null
          ],
          [
           71000,
           0,
           null,
           null,
           null
          ],
          [
           71500,
           0,
           null,
           null,
           null
          ],
          [
           72000,
           0,
           null,
           null,
           null
          ],
          [
           72500,
           0,
           null,
           null,
           null
          ],
          [
           73000,
           0,
           null,
           null,
           null
          ],
          [
           73500,
           0,
           null,
           null,
           null
          ],
          [
           74000,
           0,
           null,
           null,
           null
          ],
          [
           74500,
           0,
           null,
           null,
           null
          ],
          [
           75000,
           8,
           75000,
           75000,
           1.4000000000000001
          ],
          [
           75500,
           0,
           null,
           null,
           null
          ],
          [
           76000,
           0,
           null,
           null,
           null
          ],
          [
           76500,
           0,
           null,
           null,
           null
          ],
          [
           77000,
           2,
           null,
           null,
           null
          ],
          [
           77500,
           0,
           null,
           null,
           null
          ],
          [
           78000,
           5,
           null,
           null,
           1.4000000000000001
          ],
          [
           78500,
           0,
           null,
           null,
           null
          ],
          [
           79000,
           0,
           null,
           null,
           null
          ],
          [
           79500,
           0,
           null,
           null,
           null
          ],
          [
           80000,
           4,
           null,
           null,
           1.4000000000000001
          ],
          [
           80500,
           0,
           null,
           null,
           null
          ],
          [
           81000,
           0,
           null,
           null,
           null
          ],
          [
           81500,
           0,
           null,
           null,
           null
          ],
          [
           82000,
           2,
           null,
           null,
           1.4000000000000001
          ],
          [
           82500,
           0,
           null,
           null,
           null
          ],
          [
           83000,
           0,
           null,
           null,
           null
          ],
          [
           83500,
           0,
           null,
           null,
           null
          ],
          [
           84000,
           0,
           null,
           null,
           null
          ],
          [
           84500,
           0,
           null,
           null,
           null
          ],
          [
           85000,
           0,
           null,
           null,
           null
          ],
          [
           85500,
           0,
           null,
           null,
           null
          ],
          [
           86000,
           0,
           null,
           null,
           null
          ],
          [
           86500,
           0,
           null,
           null,
           null
          ],
          [
           87000,
           0,
           null,
           null,
           null
          ],
          [
           87500,
           0,
           null,
           null,
           null
          ],
          [
           88000,
           0,
           null,
           null,
           null
          ],
          [
           88500,
           0,
           null,
           null,
           null
          ],
          [
           89000,
           0,
           null,
           null,
           null
          ],
          [
           89500,
           0,
           null,
           null,
           null
          ],
          [
           90000,
           6,
           null,
           null,
           1.4000000000000001
          ],
          [
           90500,
           0,
           null,
           null,
           null
          ],
          [
           91000,
           0,
           null,
           null,
           null
          ],
          [
           91500,
           0,
           null,
           null,
           null
          ],
          [
           92000,
           0,
           null,
           null,
           null
          ],
          [
           92500,
           0,
           null,
           null,
           null
          ],
          [
           93000,
           0,
           null,
           null,
           null
          ],
          [
           93500,
           0,
           null,
           null,
           null
          ],
          [
           94000,
           0,
           null,
           null,
           null
          ],
          [
           94500,
           0,
           null,
           null,
           null
          ],
          [
           95000,
           0,
           null,
           null,
           null
          ],
          [
           95500,
           0,
           null,
           null,
           null
          ],
          [
           96000,
           0,
           null,
           null,
           null
          ],
          [
           96500,
           0,
           null,
           null,
           null
          ],
          [
           97000,
           0,
           null,
           null,
           null
          ],
          [
           97500,
           0,
           null,
           null,
           null
          ],
          [
           98000,
           0,
           null,
           null,
           null
          ],
          [
           98500,
           0,
           null,
           null,
           null
          ],
          [
           99000,
           0,
           null,
           null,
           null
          ],
          [
           99500,
           0,
           null,
           null,
           null
          ],
          [
           100000,
           6,
           null,
           null,
           1.4000000000000001
          ],
          [
           100500,
           0,
           null,
           null,
           null
          ],
          [
           101000,
           0,
           null,
           null,
           null
          ],
          [
           101500,
           0,
           null,
           null,
           null
          ],
          [
           102000,
           0,
           null,
           null,
           null
          ],
          [
           102500,
           0,
           null,
           null,
           null
          ],
          [
           103000,
           0,
           null,
           null,
           null
          ],
          [
           103500,
           0,
           null,
           null,
           null
          ],
          [
           104000,
           0,
           null,
           null,
           null
          ],
          [
           104500,
           0,
           null,
           null,
           null
          ],
          [
           105000,
           0,
           null,
           null,
           null
          ],
          [
           105500,
           0,
           null,
           null,
           null
          ],
          [
           106000,
           0,
           null,
           null,
           null
          ],
          [
           106500,
           0,
           null,
           null,
           null
          ],
          [
           107000,
           0,
           null,
           null,
           null
          ],
          [
           107500,
           0,
           null,
           null,
           null
          ],
          [
           108000,
           0,
           null,
           null,
           null
          ],
          [
           108500,
           0,
           null,
           null,
           null
          ],
          [
           109000,
           0,
           null,
           null,
           null
          ],
          [
           109500,
           0,
           null,
           null,
           null
          ],
          [
           110000,
           0,
           null,
           null,
           null
          ],
          [
           110500,
           0,
           null,
           null,
           null
          ],
          [
           111000,
           0,
           null,
           null,
           null
          ],
          [
           111500,
           0,
           null,
           null,
           null
          ],
          [
           112000,
           0,
           null,
           null,
           null
          ],
          [
           112500,
           0,
           null,
           null,
           null
          ],
          [
           113000,
           0,
           null,
           null,
           null
          ],
          [
           113500,
           0,
           null,
           null,
           null
          ],
          [
           114000,
           0,
           null,
           null,
           null
          ],
          [
           114500,
           0,
           null,
           null,
           null
          ],
          [
           115000,
           0,
           null,
           null,
           null
          ],
          [
           115500,
           0,
           null,
           null,
           null
          ],
          [
           116000,
           0,
           null,
           null,
           null
          ],
          [
           116500,
           0,
           null,
           null,
           null
          ],
          [
           117000,
           0,
           null,
           null,
           null
          ],
          [
           117500,
           0,
           null,
           null,
           null
          ],
          [
           118000,
           0,
           null,
           null,
           null
          ],
          [
           118500,
           0,
           null,
           null,
           null
          ],
          [
           119000,
           0,
           null,
           null,
           null
          ],
          [
           119500,
           0,
           null,
           null,
           null
          ],
          [
           120000,
           0,
           null,
           null,
           null
          ],
          [
           120500,
           0,
           null,
           null,
           null
          ],
          [
           121000,
           2,
           null,
           null,
           null
          ],
          [
           121500,
           0,
           null,
           null,
           null
          ],
          [
           122000,
           0,
           null,
           null,
           null
          ],
          [
           122500,
           0,
           null,
           null,
           null
          ],
          [
           123000,
           0,
           null,
           null,
           null
          ],
          [
           123500,
           0,
           null,
           null,
           null
          ],
          [
           124000,
           0,
           null,
           null,
           null
          ],
          [
           124500,
           0,
           null,
           null,
           null
          ],
          [
           125000,
           0,
           null,
           null,
           null
          ],
          [
           125500,
           0,
           null,
           null,
           null
          ],
          [
           126000,
           0,
           null,
           null,
           null
          ],
          [
           126500,
           0,
           null,
           null,
           null
          ],
          [
           127000,
           0,
           null,
           null,
           null
          ],
          [
           127500,
           0,
           null,
           null,
           null
          ],
          [
           128000,
           0,
           null,
           null,
           null
          ],
          [
           128500,
           0,
           null,
           null,
           null
          ],
          [
           129000,
           0,
           null,
           null,
           null
          ],
          [
           129500,
           0,
           null,
           null,
           null
          ],
          [
           130000,
           0,
           null,
           null,
           null
          ],
          [
           130500,
           0,
           null,
           null,
           null
          ],
          [
           131000,
           0,
           null,
           null,
           null
          ],
          [
           131500,
           0,
           null,
           null,
           null
          ],
          [
           132000,
           0,
           null,
           null,
           null
          ],
          [
           132500,
           0,
           null,
           null,
           null
          ],
          [
           133000,
           0,
           null,
           null,
           null
          ],
          [
           133500,
           0,
           null,
           null,
           null
          ],
          [
           134000,
           0,
           null,
           null,
           null
          ],
          [
           134500,
           0,
           null,
           null,
           null
          ],
          [
           135000,
           0,
           null,
           null,
           null
          ],
          [
           135500,
           0,
           null,
           null,
           null
          ],
          [
           136000,
           0,
           null,
           null,
           null
          ],
          [
           136500,
           0,
           null,
           null,
           null
          ],
          [
           137000,
           0,
           null,
           null,
           null
          ],
          [
           137500,
           0,
           null,
           null,
           null
          ],
          [
           138000,
           0,
           null,
           null,
           null
          ],
          [
           138500,
           0,
           null,
           null,
           null
          ],
          [
           139000,
           0,
           null,
           null,
           null
          ],
          [
           139500,
           0,
           null,
           null,
           null
          ],
          [
           140000,
           0,
           null,
           null,
           null
          ],
          [
           140500,
           0,
           null,
           null,
           null
          ],
          [
           141000,
           0,
           null,
           null,
           null
          ],
          [
           141500,
           0,
           null,
           null,
           null
          ],
          [
           142000,
           0,
           null,
           null,
           null
          ],
          [
           142500,
           0,
           null,
           null,
           null
          ],
          [
           143000,
           0,
           null,
           null,
           null
          ],
          [
           143500,
           0,
           null,
           null,
           null
          ],
          [
           144000,
           0,
           null,
           null,
           null
          ],
          [
           144500,
           0,
           null,
           null,
           null
          ],
          [
           145000,
           0,
           null,
           null,
           null
          ],
          [
           145500,
           0,
           null,
           null,
           null
          ],
          [
           146000,
           0,
           null,
           null,
           null
          ],
          [
           146500,
           0,
           null,
           null,
           null
          ],
          [
           147000,
           0,
           null,
           null,
           null
          ],
          [
           147500,
           0,
           null,
           null,
           null
          ],
          [
           148000,
           0,
           null,
           null,
           null
          ],
          [
           148500,
           0,
           null,
           null,
           null
          ],
          [
           149000,
           0,
           null,
           null,
           null
          ],
          [
           149500,
           0,
           null,
           null,
           null
          ],
          [
           150000,
           2,
           null,
           null,
           null
          ]
         ],
         "hoverlabel": {
          "namelength": 0
         },
         "hovertemplate": "lower_bound=%{customdata[0]}<br>count=%{customdata[1]}<br>min=%{customdata[2]}<br>max=%{customdata[3]}<br>count_noise=%{customdata[4]}",
         "legendgroup": "",
         "marker": {
          "color": "#636efa"
         },
         "name": "",
         "offsetgroup": "",
         "orientation": "v",
         "showlegend": false,
         "textposition": "auto",
         "type": "bar",
         "x": [
          0,
          500,
          1000,
          1500,
          2000,
          2500,
          3000,
          3500,
          4000,
          4500,
          5000,
          5500,
          6000,
          6500,
          7000,
          7500,
          8000,
          8500,
          9000,
          9500,
          10000,
          10500,
          11000,
          11500,
          12000,
          12500,
          13000,
          13500,
          14000,
          14500,
          15000,
          15500,
          16000,
          16500,
          17000,
          17500,
          18000,
          18500,
          19000,
          19500,
          20000,
          20500,
          21000,
          21500,
          22000,
          22500,
          23000,
          23500,
          24000,
          24500,
          25000,
          25500,
          26000,
          26500,
          27000,
          27500,
          28000,
          28500,
          29000,
          29500,
          30000,
          30500,
          31000,
          31500,
          32000,
          32500,
          33000,
          33500,
          34000,
          34500,
          35000,
          35500,
          36000,
          36500,
          37000,
          37500,
          38000,
          38500,
          39000,
          39500,
          40000,
          40500,
          41000,
          41500,
          42000,
          42500,
          43000,
          43500,
          44000,
          44500,
          45000,
          45500,
          46000,
          46500,
          47000,
          47500,
          48000,
          48500,
          49000,
          49500,
          50000,
          50500,
          51000,
          51500,
          52000,
          52500,
          53000,
          53500,
          54000,
          54500,
          55000,
          55500,
          56000,
          56500,
          57000,
          57500,
          58000,
          58500,
          59000,
          59500,
          60000,
          60500,
          61000,
          61500,
          62000,
          62500,
          63000,
          63500,
          64000,
          64500,
          65000,
          65500,
          66000,
          66500,
          67000,
          67500,
          68000,
          68500,
          69000,
          69500,
          70000,
          70500,
          71000,
          71500,
          72000,
          72500,
          73000,
          73500,
          74000,
          74500,
          75000,
          75500,
          76000,
          76500,
          77000,
          77500,
          78000,
          78500,
          79000,
          79500,
          80000,
          80500,
          81000,
          81500,
          82000,
          82500,
          83000,
          83500,
          84000,
          84500,
          85000,
          85500,
          86000,
          86500,
          87000,
          87500,
          88000,
          88500,
          89000,
          89500,
          90000,
          90500,
          91000,
          91500,
          92000,
          92500,
          93000,
          93500,
          94000,
          94500,
          95000,
          95500,
          96000,
          96500,
          97000,
          97500,
          98000,
          98500,
          99000,
          99500,
          100000,
          100500,
          101000,
          101500,
          102000,
          102500,
          103000,
          103500,
          104000,
          104500,
          105000,
          105500,
          106000,
          106500,
          107000,
          107500,
          108000,
          108500,
          109000,
          109500,
          110000,
          110500,
          111000,
          111500,
          112000,
          112500,
          113000,
          113500,
          114000,
          114500,
          115000,
          115500,
          116000,
          116500,
          117000,
          117500,
          118000,
          118500,
          119000,
          119500,
          120000,
          120500,
          121000,
          121500,
          122000,
          122500,
          123000,
          123500,
          124000,
          124500,
          125000,
          125500,
          126000,
          126500,
          127000,
          127500,
          128000,
          128500,
          129000,
          129500,
          130000,
          130500,
          131000,
          131500,
          132000,
          132500,
          133000,
          133500,
          134000,
          134500,
          135000,
          135500,
          136000,
          136500,
          137000,
          137500,
          138000,
          138500,
          139000,
          139500,
          140000,
          140500,
          141000,
          141500,
          142000,
          142500,
          143000,
          143500,
          144000,
          144500,
          145000,
          145500,
          146000,
          146500,
          147000,
          147500,
          148000,
          148500,
          149000,
          149500,
          150000
         ],
         "xaxis": "x",
         "y": [
          2692,
          1735,
          2627,
          3830,
          5673,
          6768,
          7745,
          7221,
          8319,
          6494,
          8270,
          5771,
          6415,
          5016,
          4893,
          4227,
          4417,
          3077,
          3023,
          2270,
          3125,
          2455,
          1692,
          1227,
          1452,
          1266,
          997,
          655,
          706,
          506,
          760,
          416,
          441,
          383,
          323,
          263,
          303,
          196,
          175,
          115,
          293,
          146,
          110,
          83,
          96,
          77,
          81,
          45,
          63,
          27,
          172,
          37,
          36,
          33,
          44,
          16,
          50,
          12,
          41,
          8,
          87,
          12,
          27,
          12,
          23,
          11,
          35,
          10,
          16,
          8,
          34,
          12,
          13,
          0,
          10,
          17,
          7,
          0,
          8,
          11,
          51,
          4,
          7,
          19,
          7,
          5,
          12,
          0,
          7,
          4,
          13,
          7,
          0,
          0,
          0,
          2,
          7,
          0,
          0,
          2,
          22,
          2,
          0,
          0,
          3,
          0,
          4,
          5,
          10,
          0,
          5,
          0,
          2,
          0,
          10,
          2,
          9,
          0,
          0,
          0,
          8,
          0,
          4,
          0,
          6,
          6,
          0,
          0,
          0,
          0,
          8,
          0,
          2,
          0,
          0,
          0,
          0,
          0,
          0,
          0,
          10,
          0,
          0,
          0,
          0,
          0,
          0,
          0,
          0,
          0,
          8,
          0,
          0,
          0,
          2,
          0,
          5,
          0,
          0,
          0,
          4,
          0,
          0,
          0,
          2,
          0,
          0,
          0,
          0,
          0,
          0,
          0,
          0,
          0,
          0,
          0,
          0,
          0,
          0,
          0,
          6,
          0,
          0,
          0,
          0,
          0,
          0,
          0,
          0,
          0,
          0,
          0,
          0,
          0,
          0,
          0,
          0,
          0,
          0,
          0,
          6,
          0,
          0,
          0,
          0,
          0,
          0,
          0,
          0,
          0,
          0,
          0,
          0,
          0,
          0,
          0,
          0,
          0,
          0,
          0,
          0,
          0,
          0,
          0,
          0,
          0,
          0,
          0,
          0,
          0,
          0,
          0,
          0,
          0,
          0,
          0,
          0,
          0,
          0,
          0,
          0,
          0,
          2,
          0,
          0,
          0,
          0,
          0,
          0,
          0,
          0,
          0,
          0,
          0,
          0,
          0,
          0,
          0,
          0,
          0,
          0,
          0,
          0,
          0,
          0,
          0,
          0,
          0,
          0,
          0,
          0,
          0,
          0,
          0,
          0,
          0,
          0,
          0,
          0,
          0,
          0,
          0,
          0,
          0,
          0,
          0,
          0,
          0,
          0,
          0,
          0,
          0,
          0,
          0,
          0,
          0,
          0,
          0,
          0,
          0,
          2
         ],
         "yaxis": "y"
        }
       ],
       "layout": {
        "barmode": "relative",
        "height": 600,
        "legend": {
         "tracegroupgap": 0
        },
        "margin": {
         "t": 60
        },
        "template": {
         "data": {
          "bar": [
           {
            "error_x": {
             "color": "#2a3f5f"
            },
            "error_y": {
             "color": "#2a3f5f"
            },
            "marker": {
             "line": {
              "color": "#E5ECF6",
              "width": 0.5
             }
            },
            "type": "bar"
           }
          ],
          "barpolar": [
           {
            "marker": {
             "line": {
              "color": "#E5ECF6",
              "width": 0.5
             }
            },
            "type": "barpolar"
           }
          ],
          "carpet": [
           {
            "aaxis": {
             "endlinecolor": "#2a3f5f",
             "gridcolor": "white",
             "linecolor": "white",
             "minorgridcolor": "white",
             "startlinecolor": "#2a3f5f"
            },
            "baxis": {
             "endlinecolor": "#2a3f5f",
             "gridcolor": "white",
             "linecolor": "white",
             "minorgridcolor": "white",
             "startlinecolor": "#2a3f5f"
            },
            "type": "carpet"
           }
          ],
          "choropleth": [
           {
            "colorbar": {
             "outlinewidth": 0,
             "ticks": ""
            },
            "type": "choropleth"
           }
          ],
          "contour": [
           {
            "colorbar": {
             "outlinewidth": 0,
             "ticks": ""
            },
            "colorscale": [
             [
              0,
              "#0d0887"
             ],
             [
              0.1111111111111111,
              "#46039f"
             ],
             [
              0.2222222222222222,
              "#7201a8"
             ],
             [
              0.3333333333333333,
              "#9c179e"
             ],
             [
              0.4444444444444444,
              "#bd3786"
             ],
             [
              0.5555555555555556,
              "#d8576b"
             ],
             [
              0.6666666666666666,
              "#ed7953"
             ],
             [
              0.7777777777777778,
              "#fb9f3a"
             ],
             [
              0.8888888888888888,
              "#fdca26"
             ],
             [
              1,
              "#f0f921"
             ]
            ],
            "type": "contour"
           }
          ],
          "contourcarpet": [
           {
            "colorbar": {
             "outlinewidth": 0,
             "ticks": ""
            },
            "type": "contourcarpet"
           }
          ],
          "heatmap": [
           {
            "colorbar": {
             "outlinewidth": 0,
             "ticks": ""
            },
            "colorscale": [
             [
              0,
              "#0d0887"
             ],
             [
              0.1111111111111111,
              "#46039f"
             ],
             [
              0.2222222222222222,
              "#7201a8"
             ],
             [
              0.3333333333333333,
              "#9c179e"
             ],
             [
              0.4444444444444444,
              "#bd3786"
             ],
             [
              0.5555555555555556,
              "#d8576b"
             ],
             [
              0.6666666666666666,
              "#ed7953"
             ],
             [
              0.7777777777777778,
              "#fb9f3a"
             ],
             [
              0.8888888888888888,
              "#fdca26"
             ],
             [
              1,
              "#f0f921"
             ]
            ],
            "type": "heatmap"
           }
          ],
          "heatmapgl": [
           {
            "colorbar": {
             "outlinewidth": 0,
             "ticks": ""
            },
            "colorscale": [
             [
              0,
              "#0d0887"
             ],
             [
              0.1111111111111111,
              "#46039f"
             ],
             [
              0.2222222222222222,
              "#7201a8"
             ],
             [
              0.3333333333333333,
              "#9c179e"
             ],
             [
              0.4444444444444444,
              "#bd3786"
             ],
             [
              0.5555555555555556,
              "#d8576b"
             ],
             [
              0.6666666666666666,
              "#ed7953"
             ],
             [
              0.7777777777777778,
              "#fb9f3a"
             ],
             [
              0.8888888888888888,
              "#fdca26"
             ],
             [
              1,
              "#f0f921"
             ]
            ],
            "type": "heatmapgl"
           }
          ],
          "histogram": [
           {
            "marker": {
             "colorbar": {
              "outlinewidth": 0,
              "ticks": ""
             }
            },
            "type": "histogram"
           }
          ],
          "histogram2d": [
           {
            "colorbar": {
             "outlinewidth": 0,
             "ticks": ""
            },
            "colorscale": [
             [
              0,
              "#0d0887"
             ],
             [
              0.1111111111111111,
              "#46039f"
             ],
             [
              0.2222222222222222,
              "#7201a8"
             ],
             [
              0.3333333333333333,
              "#9c179e"
             ],
             [
              0.4444444444444444,
              "#bd3786"
             ],
             [
              0.5555555555555556,
              "#d8576b"
             ],
             [
              0.6666666666666666,
              "#ed7953"
             ],
             [
              0.7777777777777778,
              "#fb9f3a"
             ],
             [
              0.8888888888888888,
              "#fdca26"
             ],
             [
              1,
              "#f0f921"
             ]
            ],
            "type": "histogram2d"
           }
          ],
          "histogram2dcontour": [
           {
            "colorbar": {
             "outlinewidth": 0,
             "ticks": ""
            },
            "colorscale": [
             [
              0,
              "#0d0887"
             ],
             [
              0.1111111111111111,
              "#46039f"
             ],
             [
              0.2222222222222222,
              "#7201a8"
             ],
             [
              0.3333333333333333,
              "#9c179e"
             ],
             [
              0.4444444444444444,
              "#bd3786"
             ],
             [
              0.5555555555555556,
              "#d8576b"
             ],
             [
              0.6666666666666666,
              "#ed7953"
             ],
             [
              0.7777777777777778,
              "#fb9f3a"
             ],
             [
              0.8888888888888888,
              "#fdca26"
             ],
             [
              1,
              "#f0f921"
             ]
            ],
            "type": "histogram2dcontour"
           }
          ],
          "mesh3d": [
           {
            "colorbar": {
             "outlinewidth": 0,
             "ticks": ""
            },
            "type": "mesh3d"
           }
          ],
          "parcoords": [
           {
            "line": {
             "colorbar": {
              "outlinewidth": 0,
              "ticks": ""
             }
            },
            "type": "parcoords"
           }
          ],
          "pie": [
           {
            "automargin": true,
            "type": "pie"
           }
          ],
          "scatter": [
           {
            "marker": {
             "colorbar": {
              "outlinewidth": 0,
              "ticks": ""
             }
            },
            "type": "scatter"
           }
          ],
          "scatter3d": [
           {
            "line": {
             "colorbar": {
              "outlinewidth": 0,
              "ticks": ""
             }
            },
            "marker": {
             "colorbar": {
              "outlinewidth": 0,
              "ticks": ""
             }
            },
            "type": "scatter3d"
           }
          ],
          "scattercarpet": [
           {
            "marker": {
             "colorbar": {
              "outlinewidth": 0,
              "ticks": ""
             }
            },
            "type": "scattercarpet"
           }
          ],
          "scattergeo": [
           {
            "marker": {
             "colorbar": {
              "outlinewidth": 0,
              "ticks": ""
             }
            },
            "type": "scattergeo"
           }
          ],
          "scattergl": [
           {
            "marker": {
             "colorbar": {
              "outlinewidth": 0,
              "ticks": ""
             }
            },
            "type": "scattergl"
           }
          ],
          "scattermapbox": [
           {
            "marker": {
             "colorbar": {
              "outlinewidth": 0,
              "ticks": ""
             }
            },
            "type": "scattermapbox"
           }
          ],
          "scatterpolar": [
           {
            "marker": {
             "colorbar": {
              "outlinewidth": 0,
              "ticks": ""
             }
            },
            "type": "scatterpolar"
           }
          ],
          "scatterpolargl": [
           {
            "marker": {
             "colorbar": {
              "outlinewidth": 0,
              "ticks": ""
             }
            },
            "type": "scatterpolargl"
           }
          ],
          "scatterternary": [
           {
            "marker": {
             "colorbar": {
              "outlinewidth": 0,
              "ticks": ""
             }
            },
            "type": "scatterternary"
           }
          ],
          "surface": [
           {
            "colorbar": {
             "outlinewidth": 0,
             "ticks": ""
            },
            "colorscale": [
             [
              0,
              "#0d0887"
             ],
             [
              0.1111111111111111,
              "#46039f"
             ],
             [
              0.2222222222222222,
              "#7201a8"
             ],
             [
              0.3333333333333333,
              "#9c179e"
             ],
             [
              0.4444444444444444,
              "#bd3786"
             ],
             [
              0.5555555555555556,
              "#d8576b"
             ],
             [
              0.6666666666666666,
              "#ed7953"
             ],
             [
              0.7777777777777778,
              "#fb9f3a"
             ],
             [
              0.8888888888888888,
              "#fdca26"
             ],
             [
              1,
              "#f0f921"
             ]
            ],
            "type": "surface"
           }
          ],
          "table": [
           {
            "cells": {
             "fill": {
              "color": "#EBF0F8"
             },
             "line": {
              "color": "white"
             }
            },
            "header": {
             "fill": {
              "color": "#C8D4E3"
             },
             "line": {
              "color": "white"
             }
            },
            "type": "table"
           }
          ]
         },
         "layout": {
          "annotationdefaults": {
           "arrowcolor": "#2a3f5f",
           "arrowhead": 0,
           "arrowwidth": 1
          },
          "coloraxis": {
           "colorbar": {
            "outlinewidth": 0,
            "ticks": ""
           }
          },
          "colorscale": {
           "diverging": [
            [
             0,
             "#8e0152"
            ],
            [
             0.1,
             "#c51b7d"
            ],
            [
             0.2,
             "#de77ae"
            ],
            [
             0.3,
             "#f1b6da"
            ],
            [
             0.4,
             "#fde0ef"
            ],
            [
             0.5,
             "#f7f7f7"
            ],
            [
             0.6,
             "#e6f5d0"
            ],
            [
             0.7,
             "#b8e186"
            ],
            [
             0.8,
             "#7fbc41"
            ],
            [
             0.9,
             "#4d9221"
            ],
            [
             1,
             "#276419"
            ]
           ],
           "sequential": [
            [
             0,
             "#0d0887"
            ],
            [
             0.1111111111111111,
             "#46039f"
            ],
            [
             0.2222222222222222,
             "#7201a8"
            ],
            [
             0.3333333333333333,
             "#9c179e"
            ],
            [
             0.4444444444444444,
             "#bd3786"
            ],
            [
             0.5555555555555556,
             "#d8576b"
            ],
            [
             0.6666666666666666,
             "#ed7953"
            ],
            [
             0.7777777777777778,
             "#fb9f3a"
            ],
            [
             0.8888888888888888,
             "#fdca26"
            ],
            [
             1,
             "#f0f921"
            ]
           ],
           "sequentialminus": [
            [
             0,
             "#0d0887"
            ],
            [
             0.1111111111111111,
             "#46039f"
            ],
            [
             0.2222222222222222,
             "#7201a8"
            ],
            [
             0.3333333333333333,
             "#9c179e"
            ],
            [
             0.4444444444444444,
             "#bd3786"
            ],
            [
             0.5555555555555556,
             "#d8576b"
            ],
            [
             0.6666666666666666,
             "#ed7953"
            ],
            [
             0.7777777777777778,
             "#fb9f3a"
            ],
            [
             0.8888888888888888,
             "#fdca26"
            ],
            [
             1,
             "#f0f921"
            ]
           ]
          },
          "colorway": [
           "#636efa",
           "#EF553B",
           "#00cc96",
           "#ab63fa",
           "#FFA15A",
           "#19d3f3",
           "#FF6692",
           "#B6E880",
           "#FF97FF",
           "#FECB52"
          ],
          "font": {
           "color": "#2a3f5f"
          },
          "geo": {
           "bgcolor": "white",
           "lakecolor": "white",
           "landcolor": "#E5ECF6",
           "showlakes": true,
           "showland": true,
           "subunitcolor": "white"
          },
          "hoverlabel": {
           "align": "left"
          },
          "hovermode": "closest",
          "mapbox": {
           "style": "light"
          },
          "paper_bgcolor": "white",
          "plot_bgcolor": "#E5ECF6",
          "polar": {
           "angularaxis": {
            "gridcolor": "white",
            "linecolor": "white",
            "ticks": ""
           },
           "bgcolor": "#E5ECF6",
           "radialaxis": {
            "gridcolor": "white",
            "linecolor": "white",
            "ticks": ""
           }
          },
          "scene": {
           "xaxis": {
            "backgroundcolor": "#E5ECF6",
            "gridcolor": "white",
            "gridwidth": 2,
            "linecolor": "white",
            "showbackground": true,
            "ticks": "",
            "zerolinecolor": "white"
           },
           "yaxis": {
            "backgroundcolor": "#E5ECF6",
            "gridcolor": "white",
            "gridwidth": 2,
            "linecolor": "white",
            "showbackground": true,
            "ticks": "",
            "zerolinecolor": "white"
           },
           "zaxis": {
            "backgroundcolor": "#E5ECF6",
            "gridcolor": "white",
            "gridwidth": 2,
            "linecolor": "white",
            "showbackground": true,
            "ticks": "",
            "zerolinecolor": "white"
           }
          },
          "shapedefaults": {
           "line": {
            "color": "#2a3f5f"
           }
          },
          "ternary": {
           "aaxis": {
            "gridcolor": "white",
            "linecolor": "white",
            "ticks": ""
           },
           "baxis": {
            "gridcolor": "white",
            "linecolor": "white",
            "ticks": ""
           },
           "bgcolor": "#E5ECF6",
           "caxis": {
            "gridcolor": "white",
            "linecolor": "white",
            "ticks": ""
           }
          },
          "title": {
           "x": 0.05
          },
          "xaxis": {
           "automargin": true,
           "gridcolor": "white",
           "linecolor": "white",
           "ticks": "",
           "title": {
            "standoff": 15
           },
           "zerolinecolor": "white",
           "zerolinewidth": 2
          },
          "yaxis": {
           "automargin": true,
           "gridcolor": "white",
           "linecolor": "white",
           "ticks": "",
           "title": {
            "standoff": 15
           },
           "zerolinecolor": "white",
           "zerolinewidth": 2
          }
         }
        },
        "xaxis": {
         "anchor": "y",
         "domain": [
          0,
          1
         ],
         "title": {
          "text": "lower_bound"
         }
        },
        "yaxis": {
         "anchor": "x",
         "domain": [
          0,
          1
         ],
         "title": {
          "text": "count"
         }
        }
       }
      }
     },
     "metadata": {},
     "output_type": "display_data"
    }
   ],
   "source": [
    "import plotly.express as px\n",
    "\n",
    "bucket_size_to_plot = 500\n",
    "px.bar(df.loc[[bucket_size_to_plot]], x='lower_bound', y='count', hover_data=['lower_bound', 'count', 'min', 'max', 'count_noise'])"
   ]
  },
  {
   "cell_type": "markdown",
   "execution_count": null,
   "metadata": {},
   "outputs": [],
   "source": [
    "### Get a sum of the counts by bucket size"
   ]
  },
  {
   "cell_type": "code",
   "execution_count": 9,
   "metadata": {},
   "outputs": [
    {
     "data": {
      "text/plain": "bucket_size\n10     118677.0\n50     119646.0\n100    119847.0\n500    120064.0\nName: count, dtype: float64"
     },
     "execution_count": 9,
     "metadata": {},
     "output_type": "execute_result"
    }
   ],
   "source": [
    "df['count'].groupby('bucket_size').sum()"
   ]
  },
  {
   "cell_type": "code",
   "execution_count": null,
   "metadata": {},
   "outputs": [],
   "source": []
  }
 ]
}