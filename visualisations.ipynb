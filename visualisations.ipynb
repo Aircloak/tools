{
 "nbformat": 4,
 "nbformat_minor": 2,
 "metadata": {
  "language_info": {
   "name": "python",
   "codemirror_mode": {
    "name": "ipython",
    "version": 3
   },
   "version": "3.7.4"
  },
  "orig_nbformat": 2,
  "file_extension": ".py",
  "mimetype": "text/x-python",
  "name": "python",
  "npconvert_exporter": "python",
  "pygments_lexer": "ipython3",
  "version": 3
 },
 "cells": [
  {
   "cell_type": "markdown",
   "execution_count": null,
   "metadata": {},
   "outputs": [],
   "source": [
    "Set the logging level"
   ]
  },
  {
   "cell_type": "code",
   "metadata": {},
   "outputs": [],
   "source": [
    "import logging\n",
    "logging.basicConfig(level=logging.DEBUG)\n"
   ]
  },
  {
   "cell_type": "markdown",
   "execution_count": null,
   "metadata": {},
   "outputs": [],
   "source": [
    "### Import the Explorer and launch the exploration for the _amount_ column of the _loans_ table"
   ]
  },
  {
   "cell_type": "code",
   "metadata": {},
   "outputs": [],
   "source": [
    "from explorer.numeric import Explorer\n",
    "\n",
    "e = Explorer(dbname='gda_banking')\n",
    "params = {'table': 'loans', 'column': 'amount'}\n",
    "\n",
    "e.explore_numeric_col(**params, )"
   ]
  },
  {
   "cell_type": "markdown",
   "metadata": {},
   "outputs": [],
   "source": [
    "### Extract histogram data for plotting as a bar chart"
   ]
  },
  {
   "cell_type": "code",
   "metadata": {},
   "outputs": [],
   "source": [
    "import plotly.graph_objects as go\n",
    "\n",
    "x, y = e.histogram(**params)\n",
    "fig = go.Figure(\n",
    "    data=[go.Bar(y=y, x=x)],\n",
    "    layout_title_text=f'Histogram of {params}'\n",
    ")\n",
    "fig\n"
   ]
  },
  {
   "cell_type": "markdown",
   "execution_count": 26,
   "metadata": {},
   "outputs": [],
   "source": [
    "### Extract to pandas dataframe for easy exploration"
   ]
  },
  {
   "cell_type": "code",
   "metadata": {},
   "outputs": [],
   "source": [
    "import plotly.express as px\n",
    "import pandas\n",
    "\n",
    "df = pandas.DataFrame(**e.to_dataframe(**params))\n",
    "fig2 = px.bar(df, \n",
    "    x='bucket', \n",
    "    y='count', \n",
    "    hover_data=['stddev', 'avg'], \n",
    "    color='count_noise'\n",
    "    )\n",
    "fig2"
   ]
  },
  {
   "cell_type": "code",
   "metadata": {},
   "outputs": [],
   "source": [
    "df"
   ]
  }
 ]
}