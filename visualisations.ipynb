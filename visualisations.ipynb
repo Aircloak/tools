{
 "nbformat": 4,
 "nbformat_minor": 2,
 "metadata": {
  "language_info": {
   "name": "python",
   "codemirror_mode": {
    "name": "ipython",
    "version": 3
   },
   "version": "3.7.4"
  },
  "orig_nbformat": 2,
  "file_extension": ".py",
  "mimetype": "text/x-python",
  "name": "python",
  "npconvert_exporter": "python",
  "pygments_lexer": "ipython3",
  "version": 3
 },
 "cells": [
  {
   "cell_type": "markdown",
   "execution_count": null,
   "metadata": {},
   "outputs": [],
   "source": [
    "### Enable debug logging"
   ]
  },
  {
   "cell_type": "code",
   "execution_count": 1,
   "metadata": {},
   "outputs": [],
   "source": [
    "import logging\n",
    "logging.basicConfig(level=logging.DEBUG)\n"
   ]
  },
  {
   "cell_type": "markdown",
   "execution_count": null,
   "metadata": {},
   "outputs": [],
   "source": [
    "### Initialise the connection to the Aircloak server"
   ]
  },
  {
   "cell_type": "code",
   "execution_count": 2,
   "metadata": {},
   "outputs": [
    {
     "name": "stderr",
     "output_type": "stream",
     "text": "DEBUG:root:Connecting to Aircloak: user=daniel-613C7ADF4535BB56DBCD, host=attack.aircloak.com, port=9432, dbname=GiveMeSomeCredit\n"
    }
   ],
   "source": [
    "from explorer.connection import AircloakConnection\n",
    "\n",
    "aircloak = AircloakConnection(dbname='GiveMeSomeCredit')"
   ]
  },
  {
   "cell_type": "markdown",
   "execution_count": 11,
   "metadata": {},
   "outputs": [],
   "source": [
    "### Import the Explorer and launch the exploration"
   ]
  },
  {
   "cell_type": "code",
   "execution_count": 3,
   "metadata": {},
   "outputs": [
    {
     "name": "stderr",
     "output_type": "stream",
     "text": "DEBUG:root:Sending query: \n        SELECT\n            min(\"MonthlyIncome\")\n        ,   max(\"MonthlyIncome\")\n        ,   avg(\"MonthlyIncome\")\n        ,   count(*)\n        ,   count_noise(*)\n        FROM \"loans\"\n    \nDEBUG:root:Sending query: \n        SELECT\n            \"MonthlyIncome\"\n        ,   count(*)\n        FROM \"loans\"\n        WHERE \"MonthlyIncome\" IS NOT NULL\n        GROUP BY 1\n    \nDEBUG:root:Sending query: \n    SELECT\n        bucket(\"MonthlyIncome\" by 10000) as \"bucket_10000\"\n, bucket(\"MonthlyIncome\" by 500) as \"bucket_500\"\n, bucket(\"MonthlyIncome\" by 2000) as \"bucket_2000\"\n    ,   count(*)\n    ,   count_noise(*)\n    ,   min(\"MonthlyIncome\")\n    ,   max(\"MonthlyIncome\")\n    ,   avg(\"MonthlyIncome\")\n    FROM \"loans\"\n    WHERE \"MonthlyIncome\" IS NOT NULL\n    GROUP BY GROUPING SETS (1, 2, 3)\n    \nDEBUG:root:Received query results, processing...\nDEBUG:root:... finished processing query results.\n"
    }
   ],
   "source": [
    "from explorer.numeric_explorer import NumericColumnExplorer\n",
    "\n",
    "e = NumericColumnExplorer(aircloak_connection=aircloak, table='loans', column='MonthlyIncome')\n"
   ]
  },
  {
   "cell_type": "markdown",
   "execution_count": null,
   "metadata": {},
   "outputs": [],
   "source": [
    "### Explore some additional buckets"
   ]
  },
  {
   "cell_type": "code",
   "execution_count": 4,
   "metadata": {},
   "outputs": [
    {
     "name": "stderr",
     "output_type": "stream",
     "text": "DEBUG:root:Sending query: \n    SELECT\n        bucket(\"MonthlyIncome\" by 1) as \"bucket_1\"\n, bucket(\"MonthlyIncome\" by 10) as \"bucket_10\"\n, bucket(\"MonthlyIncome\" by 50) as \"bucket_50\"\n    ,   count(*)\n    ,   count_noise(*)\n    ,   min(\"MonthlyIncome\")\n    ,   max(\"MonthlyIncome\")\n    ,   avg(\"MonthlyIncome\")\n    FROM \"loans\"\n    WHERE \"MonthlyIncome\" IS NOT NULL\n    GROUP BY GROUPING SETS (1, 2, 3)\n    \nDEBUG:root:Received query results, processing...\nDEBUG:root:... finished processing query results.\n"
    }
   ],
   "source": [
    "e.explore({1,10,50})"
   ]
  },
  {
   "cell_type": "code",
   "execution_count": 5,
   "metadata": {},
   "outputs": [
    {
     "name": "stdout",
     "output_type": "stream",
     "text": "suppressed rows: [(0, 13818), (1, 13818), (10, 1525), (50, 580), (500, 170), (2000, 62), (10000, 36)], total rows: 150000\n"
    }
   ],
   "source": [
    "print(f'suppressed rows: {sorted(e._suppressed_counts.items())}, total rows: {e._count}')"
   ]
  },
  {
   "cell_type": "code",
   "execution_count": 26,
   "metadata": {},
   "outputs": [],
   "source": [
    "### Extract to pandas dataframe for analysis"
   ]
  },
  {
   "cell_type": "code",
   "execution_count": 6,
   "metadata": {},
   "outputs": [
    {
     "name": "stdout",
     "output_type": "stream",
     "text": "<class 'pandas.core.frame.DataFrame'>\nInt64Index: 8053 entries, 10000 to 50\nData columns (total 6 columns):\nlower_bound    8053 non-null float64\ncount          8053 non-null int64\ncount_noise    7351 non-null float64\nmin            3185 non-null float64\nmax            3185 non-null float64\navg            7351 non-null float64\ndtypes: float64(5), int64(1)\nmemory usage: 440.4 KB\n"
    }
   ],
   "source": [
    "import pandas as pd\n",
    "\n",
    "df = pd.DataFrame(**e.extract_to_dataframe())\n",
    "df = df.set_index(['bucket_size'])\n",
    "df.info()"
   ]
  },
  {
   "cell_type": "code",
   "execution_count": 7,
   "metadata": {},
   "outputs": [
    {
     "data": {
      "text/html": "<div>\n<style scoped>\n    .dataframe tbody tr th:only-of-type {\n        vertical-align: middle;\n    }\n\n    .dataframe tbody tr th {\n        vertical-align: top;\n    }\n\n    .dataframe thead th {\n        text-align: right;\n    }\n</style>\n<table border=\"1\" class=\"dataframe\">\n  <thead>\n    <tr style=\"text-align: right;\">\n      <th></th>\n      <th>lower_bound</th>\n      <th>count</th>\n      <th>count_noise</th>\n      <th>min</th>\n      <th>max</th>\n      <th>avg</th>\n    </tr>\n    <tr>\n      <th>bucket_size</th>\n      <th></th>\n      <th></th>\n      <th></th>\n      <th></th>\n      <th></th>\n      <th></th>\n    </tr>\n  </thead>\n  <tbody>\n    <tr>\n      <th>10000</th>\n      <td>80000.0</td>\n      <td>26</td>\n      <td>1.4</td>\n      <td>78700.0</td>\n      <td>91302.0</td>\n      <td>84942.479711</td>\n    </tr>\n    <tr>\n      <th>10000</th>\n      <td>150000.0</td>\n      <td>5</td>\n      <td>1.4</td>\n      <td>NaN</td>\n      <td>NaN</td>\n      <td>150456.498912</td>\n    </tr>\n    <tr>\n      <th>10000</th>\n      <td>70000.0</td>\n      <td>48</td>\n      <td>1.4</td>\n      <td>69019.0</td>\n      <td>80385.0</td>\n      <td>73479.089119</td>\n    </tr>\n    <tr>\n      <th>10000</th>\n      <td>50000.0</td>\n      <td>94</td>\n      <td>1.4</td>\n      <td>49104.0</td>\n      <td>61425.0</td>\n      <td>54136.330838</td>\n    </tr>\n    <tr>\n      <th>10000</th>\n      <td>30000.0</td>\n      <td>371</td>\n      <td>1.4</td>\n      <td>29517.0</td>\n      <td>40973.0</td>\n      <td>33325.419025</td>\n    </tr>\n  </tbody>\n</table>\n</div>",
      "text/plain": "             lower_bound  count  count_noise      min      max            avg\nbucket_size                                                                  \n10000            80000.0     26          1.4  78700.0  91302.0   84942.479711\n10000           150000.0      5          1.4      NaN      NaN  150456.498912\n10000            70000.0     48          1.4  69019.0  80385.0   73479.089119\n10000            50000.0     94          1.4  49104.0  61425.0   54136.330838\n10000            30000.0    371          1.4  29517.0  40973.0   33325.419025"
     },
     "execution_count": 7,
     "metadata": {},
     "output_type": "execute_result"
    }
   ],
   "source": [
    "df.head()"
   ]
  },
  {
   "cell_type": "markdown",
   "execution_count": null,
   "metadata": {},
   "outputs": [],
   "source": [
    "### Plot column distribution as a bar chart"
   ]
  },
  {
   "cell_type": "code",
   "execution_count": 8,
   "metadata": {},
   "outputs": [
    {
     "data": {
      "application/vnd.plotly.v1+json": {
       "config": {
        "plotlyServerURL": "https://plot.ly"
       },
       "data": [
        {
         "alignmentgroup": "True",
         "customdata": [
          [
           28000,
           50,
           27952,
           28607,
           1.4000000000000001
          ],
          [
           22500,
           77,
           22413,
           23068,
           1.4000000000000001
          ],
          [
           27000,
           44,
           26954,
           27597,
           1.4000000000000001
          ],
          [
           20000,
           293,
           19994,
           20509,
           1.4000000000000001
          ],
          [
           48000,
           7,
           null,
           null,
           1.4000000000000001
          ],
          [
           44000,
           7,
           43837,
           44571,
           1.4000000000000001
          ],
          [
           35000,
           34,
           34970,
           35542,
           1.4000000000000001
          ],
          [
           78000,
           5,
           null,
           null,
           1.4000000000000001
          ],
          [
           31000,
           27,
           30954,
           31500,
           1.4000000000000001
          ],
          [
           62500,
           6,
           null,
           null,
           1.4000000000000001
          ],
          [
           35500,
           12,
           35439,
           36072,
           1.4000000000000001
          ],
          [
           19500,
           115,
           19464,
           20042,
           1.4000000000000001
          ],
          [
           61000,
           4,
           null,
           null,
           1.4000000000000001
          ],
          [
           500,
           1735,
           474,
           1023,
           1.4000000000000001
          ],
          [
           26500,
           33,
           26484,
           26939,
           1.4000000000000001
          ],
          [
           1000,
           2627,
           957,
           1549,
           1.4000000000000001
          ],
          [
           39500,
           11,
           39389,
           40162,
           1.4000000000000001
          ],
          [
           3000,
           7745,
           2950,
           3575,
           1.4000000000000001
          ],
          [
           100000,
           6,
           null,
           null,
           1.4000000000000001
          ],
          [
           43000,
           12,
           null,
           null,
           1.4000000000000001
          ],
          [
           47500,
           2,
           null,
           null,
           null
          ],
          [
           15500,
           416,
           15446,
           16060,
           1.4000000000000001
          ],
          [
           22000,
           96,
           21960,
           22609,
           1.4000000000000001
          ],
          [
           41000,
           7,
           40937,
           41521,
           1.4000000000000001
          ],
          [
           30500,
           12,
           30414,
           31062,
           1.4000000000000001
          ],
          [
           6000,
           6415,
           5958,
           6578,
           1.4000000000000001
          ],
          [
           29000,
           41,
           28990,
           29484,
           1.4000000000000001
          ],
          [
           18500,
           196,
           18466,
           19036,
           1.4000000000000001
          ],
          [
           70000,
           10,
           null,
           null,
           1.4000000000000001
          ],
          [
           12500,
           1266,
           12450,
           13108,
           1.4000000000000001
          ],
          [
           25500,
           37,
           25464,
           26040,
           1.4000000000000001
          ],
          [
           65000,
           8,
           64948,
           65593,
           1.4000000000000001
          ],
          [
           34500,
           8,
           null,
           null,
           1.4000000000000001
          ],
          [
           53000,
           4,
           null,
           null,
           1.4000000000000001
          ],
          [
           25000,
           172,
           25002,
           25456,
           1.4000000000000001
          ],
          [
           2000,
           5673,
           1950,
           2570,
           1.4000000000000001
          ],
          [
           14500,
           506,
           14466,
           15062,
           1.4000000000000001
          ],
          [
           20500,
           146,
           20483,
           21013,
           1.4000000000000001
          ],
          [
           5000,
           8270,
           4946,
           5600,
           1.4000000000000001
          ],
          [
           50000,
           22,
           50003,
           50397,
           1.4000000000000001
          ],
          [
           17000,
           323,
           16952,
           17598,
           1.4000000000000001
          ],
          [
           32000,
           23,
           31991,
           32468,
           1.4000000000000001
          ],
          [
           26000,
           36,
           25984,
           26549,
           1.4000000000000001
          ],
          [
           44500,
           4,
           null,
           null,
           1.4000000000000001
          ],
          [
           53500,
           5,
           null,
           null,
           1.4000000000000001
          ],
          [
           16000,
           441,
           15966,
           16583,
           1.4000000000000001
          ],
          [
           77000,
           2,
           null,
           null,
           null
          ],
          [
           11500,
           1227,
           11472,
           12040,
           1.4000000000000001
          ],
          [
           90000,
           6,
           null,
           null,
           1.4000000000000001
          ],
          [
           57500,
           2,
           null,
           null,
           null
          ],
          [
           8000,
           4417,
           7951,
           8577,
           1.4000000000000001
          ],
          [
           11000,
           1692,
           10957,
           11576,
           1.4000000000000001
          ],
          [
           12000,
           1452,
           11957,
           12598,
           1.4000000000000001
          ],
          [
           80000,
           4,
           null,
           null,
           1.4000000000000001
          ],
          [
           3500,
           7221,
           3456,
           4064,
           1.4000000000000001
          ],
          [
           9000,
           3023,
           8959,
           9572,
           1.4000000000000001
          ],
          [
           38000,
           7,
           37837,
           38605,
           1.4000000000000001
          ],
          [
           41500,
           19,
           41508,
           41670,
           1.4000000000000001
          ],
          [
           36000,
           13,
           35992,
           36503,
           1.4000000000000001
          ],
          [
           40500,
           4,
           null,
           null,
           1.4000000000000001
          ],
          [
           37500,
           17,
           37489,
           37853,
           1.4000000000000001
          ],
          [
           33000,
           35,
           32953,
           33525,
           1.4000000000000001
          ],
          [
           16500,
           383,
           16498,
           17001,
           1.4000000000000001
          ],
          [
           8500,
           3077,
           8458,
           9058,
           1.4000000000000001
          ],
          [
           19000,
           175,
           18964,
           19578,
           1.4000000000000001
          ],
          [
           23500,
           45,
           23441,
           24079,
           1.4000000000000001
          ],
          [
           21000,
           110,
           20975,
           21571,
           1.4000000000000001
          ],
          [
           17500,
           263,
           17445,
           18092,
           1.4000000000000001
          ],
          [
           30000,
           87,
           29997,
           30462,
           1.4000000000000001
          ],
          [
           42500,
           5,
           null,
           null,
           1.4000000000000001
          ],
          [
           82000,
           2,
           null,
           null,
           1.4000000000000001
          ],
          [
           39000,
           8,
           null,
           null,
           1.4000000000000001
          ],
          [
           62000,
           6,
           null,
           null,
           1.4000000000000001
          ],
          [
           9500,
           2270,
           9455,
           10064,
           1.4000000000000001
          ],
          [
           45000,
           13,
           44999,
           45302,
           1.4000000000000001
          ],
          [
           37000,
           10,
           36890,
           37467,
           1.4000000000000001
          ],
          [
           7500,
           4227,
           7450,
           8081,
           1.4000000000000001
          ],
          [
           150000,
           2,
           null,
           null,
           null
          ],
          [
           49500,
           2,
           null,
           null,
           1.4000000000000001
          ],
          [
           34000,
           16,
           33976,
           34325,
           1.4000000000000001
          ],
          [
           56000,
           2,
           null,
           null,
           1.4000000000000001
          ],
          [
           2500,
           6768,
           2450,
           3078,
           1.4000000000000001
          ],
          [
           18000,
           303,
           17956,
           18583,
           1.4000000000000001
          ],
          [
           14000,
           706,
           13964,
           14575,
           1.4000000000000001
          ],
          [
           55000,
           5,
           null,
           null,
           1.4000000000000001
          ],
          [
           45500,
           7,
           null,
           null,
           1.4000000000000001
          ],
          [
           13000,
           997,
           12951,
           13583,
           1.4000000000000001
          ],
          [
           7000,
           4893,
           6955,
           7580,
           1.4000000000000001
          ],
          [
           0,
           2692,
           2,
           481,
           1.4000000000000001
          ],
          [
           10500,
           2455,
           10458,
           11097,
           1.4000000000000001
          ],
          [
           23000,
           81,
           22941,
           23584,
           1.4000000000000001
          ],
          [
           42000,
           7,
           41914,
           42525,
           1.4000000000000001
          ],
          [
           66000,
           2,
           null,
           null,
           1.4000000000000001
          ],
          [
           4500,
           6494,
           4463,
           5059,
           1.4000000000000001
          ],
          [
           15000,
           760,
           14966,
           15610,
           1.4000000000000001
          ],
          [
           24500,
           27,
           24460,
           25056,
           1.4000000000000001
          ],
          [
           5500,
           5771,
           5460,
           6054,
           1.4000000000000001
          ],
          [
           32500,
           11,
           32465,
           32950,
           1.4000000000000001
          ],
          [
           6500,
           5016,
           6468,
           7049,
           1.4000000000000001
          ],
          [
           13500,
           655,
           13474,
           14040,
           1.4000000000000001
          ],
          [
           50500,
           2,
           null,
           null,
           1.4000000000000001
          ],
          [
           33500,
           10,
           33437,
           33976,
           1.4000000000000001
          ],
          [
           28500,
           12,
           28574,
           28970,
           1.4000000000000001
          ],
          [
           54000,
           10,
           null,
           null,
           1.4000000000000001
          ],
          [
           58000,
           9,
           null,
           null,
           1.4000000000000001
          ],
          [
           27500,
           16,
           27360,
           28067,
           1.4000000000000001
          ],
          [
           57000,
           10,
           null,
           null,
           1.4000000000000001
          ],
          [
           121000,
           2,
           null,
           null,
           null
          ],
          [
           40000,
           51,
           40002,
           40367,
           1.4000000000000001
          ],
          [
           29500,
           8,
           29433,
           30016,
           1.4000000000000001
          ],
          [
           24000,
           63,
           23990,
           24534,
           1.4000000000000001
          ],
          [
           10000,
           3125,
           9955,
           10614,
           1.4000000000000001
          ],
          [
           4000,
           8319,
           3963,
           4566,
           1.4000000000000001
          ],
          [
           75000,
           8,
           75000,
           75000,
           1.4000000000000001
          ],
          [
           31500,
           12,
           31436,
           31949,
           1.4000000000000001
          ],
          [
           60000,
           8,
           59985,
           60248,
           1.4000000000000001
          ],
          [
           1500,
           3830,
           1457,
           2055,
           1.4000000000000001
          ],
          [
           21500,
           83,
           21468,
           22007,
           1.4000000000000001
          ],
          [
           52000,
           3,
           null,
           null,
           1.4000000000000001
          ]
         ],
         "hoverlabel": {
          "namelength": 0
         },
         "hovertemplate": "lower_bound=%{customdata[0]}<br>count=%{customdata[1]}<br>min=%{customdata[2]}<br>max=%{customdata[3]}<br>count_noise=%{customdata[4]}",
         "legendgroup": "",
         "marker": {
          "color": "#636efa"
         },
         "name": "",
         "offsetgroup": "",
         "orientation": "v",
         "showlegend": false,
         "textposition": "auto",
         "type": "bar",
         "x": [
          28000,
          22500,
          27000,
          20000,
          48000,
          44000,
          35000,
          78000,
          31000,
          62500,
          35500,
          19500,
          61000,
          500,
          26500,
          1000,
          39500,
          3000,
          100000,
          43000,
          47500,
          15500,
          22000,
          41000,
          30500,
          6000,
          29000,
          18500,
          70000,
          12500,
          25500,
          65000,
          34500,
          53000,
          25000,
          2000,
          14500,
          20500,
          5000,
          50000,
          17000,
          32000,
          26000,
          44500,
          53500,
          16000,
          77000,
          11500,
          90000,
          57500,
          8000,
          11000,
          12000,
          80000,
          3500,
          9000,
          38000,
          41500,
          36000,
          40500,
          37500,
          33000,
          16500,
          8500,
          19000,
          23500,
          21000,
          17500,
          30000,
          42500,
          82000,
          39000,
          62000,
          9500,
          45000,
          37000,
          7500,
          150000,
          49500,
          34000,
          56000,
          2500,
          18000,
          14000,
          55000,
          45500,
          13000,
          7000,
          0,
          10500,
          23000,
          42000,
          66000,
          4500,
          15000,
          24500,
          5500,
          32500,
          6500,
          13500,
          50500,
          33500,
          28500,
          54000,
          58000,
          27500,
          57000,
          121000,
          40000,
          29500,
          24000,
          10000,
          4000,
          75000,
          31500,
          60000,
          1500,
          21500,
          52000
         ],
         "xaxis": "x",
         "y": [
          50,
          77,
          44,
          293,
          7,
          7,
          34,
          5,
          27,
          6,
          12,
          115,
          4,
          1735,
          33,
          2627,
          11,
          7745,
          6,
          12,
          2,
          416,
          96,
          7,
          12,
          6415,
          41,
          196,
          10,
          1266,
          37,
          8,
          8,
          4,
          172,
          5673,
          506,
          146,
          8270,
          22,
          323,
          23,
          36,
          4,
          5,
          441,
          2,
          1227,
          6,
          2,
          4417,
          1692,
          1452,
          4,
          7221,
          3023,
          7,
          19,
          13,
          4,
          17,
          35,
          383,
          3077,
          175,
          45,
          110,
          263,
          87,
          5,
          2,
          8,
          6,
          2270,
          13,
          10,
          4227,
          2,
          2,
          16,
          2,
          6768,
          303,
          706,
          5,
          7,
          997,
          4893,
          2692,
          2455,
          81,
          7,
          2,
          6494,
          760,
          27,
          5771,
          11,
          5016,
          655,
          2,
          10,
          12,
          10,
          9,
          16,
          10,
          2,
          51,
          8,
          63,
          3125,
          8319,
          8,
          12,
          8,
          3830,
          83,
          3
         ],
         "yaxis": "y"
        }
       ],
       "layout": {
        "barmode": "relative",
        "height": 600,
        "legend": {
         "tracegroupgap": 0
        },
        "margin": {
         "t": 60
        },
        "template": {
         "data": {
          "bar": [
           {
            "error_x": {
             "color": "#2a3f5f"
            },
            "error_y": {
             "color": "#2a3f5f"
            },
            "marker": {
             "line": {
              "color": "#E5ECF6",
              "width": 0.5
             }
            },
            "type": "bar"
           }
          ],
          "barpolar": [
           {
            "marker": {
             "line": {
              "color": "#E5ECF6",
              "width": 0.5
             }
            },
            "type": "barpolar"
           }
          ],
          "carpet": [
           {
            "aaxis": {
             "endlinecolor": "#2a3f5f",
             "gridcolor": "white",
             "linecolor": "white",
             "minorgridcolor": "white",
             "startlinecolor": "#2a3f5f"
            },
            "baxis": {
             "endlinecolor": "#2a3f5f",
             "gridcolor": "white",
             "linecolor": "white",
             "minorgridcolor": "white",
             "startlinecolor": "#2a3f5f"
            },
            "type": "carpet"
           }
          ],
          "choropleth": [
           {
            "colorbar": {
             "outlinewidth": 0,
             "ticks": ""
            },
            "type": "choropleth"
           }
          ],
          "contour": [
           {
            "colorbar": {
             "outlinewidth": 0,
             "ticks": ""
            },
            "colorscale": [
             [
              0,
              "#0d0887"
             ],
             [
              0.1111111111111111,
              "#46039f"
             ],
             [
              0.2222222222222222,
              "#7201a8"
             ],
             [
              0.3333333333333333,
              "#9c179e"
             ],
             [
              0.4444444444444444,
              "#bd3786"
             ],
             [
              0.5555555555555556,
              "#d8576b"
             ],
             [
              0.6666666666666666,
              "#ed7953"
             ],
             [
              0.7777777777777778,
              "#fb9f3a"
             ],
             [
              0.8888888888888888,
              "#fdca26"
             ],
             [
              1,
              "#f0f921"
             ]
            ],
            "type": "contour"
           }
          ],
          "contourcarpet": [
           {
            "colorbar": {
             "outlinewidth": 0,
             "ticks": ""
            },
            "type": "contourcarpet"
           }
          ],
          "heatmap": [
           {
            "colorbar": {
             "outlinewidth": 0,
             "ticks": ""
            },
            "colorscale": [
             [
              0,
              "#0d0887"
             ],
             [
              0.1111111111111111,
              "#46039f"
             ],
             [
              0.2222222222222222,
              "#7201a8"
             ],
             [
              0.3333333333333333,
              "#9c179e"
             ],
             [
              0.4444444444444444,
              "#bd3786"
             ],
             [
              0.5555555555555556,
              "#d8576b"
             ],
             [
              0.6666666666666666,
              "#ed7953"
             ],
             [
              0.7777777777777778,
              "#fb9f3a"
             ],
             [
              0.8888888888888888,
              "#fdca26"
             ],
             [
              1,
              "#f0f921"
             ]
            ],
            "type": "heatmap"
           }
          ],
          "heatmapgl": [
           {
            "colorbar": {
             "outlinewidth": 0,
             "ticks": ""
            },
            "colorscale": [
             [
              0,
              "#0d0887"
             ],
             [
              0.1111111111111111,
              "#46039f"
             ],
             [
              0.2222222222222222,
              "#7201a8"
             ],
             [
              0.3333333333333333,
              "#9c179e"
             ],
             [
              0.4444444444444444,
              "#bd3786"
             ],
             [
              0.5555555555555556,
              "#d8576b"
             ],
             [
              0.6666666666666666,
              "#ed7953"
             ],
             [
              0.7777777777777778,
              "#fb9f3a"
             ],
             [
              0.8888888888888888,
              "#fdca26"
             ],
             [
              1,
              "#f0f921"
             ]
            ],
            "type": "heatmapgl"
           }
          ],
          "histogram": [
           {
            "marker": {
             "colorbar": {
              "outlinewidth": 0,
              "ticks": ""
             }
            },
            "type": "histogram"
           }
          ],
          "histogram2d": [
           {
            "colorbar": {
             "outlinewidth": 0,
             "ticks": ""
            },
            "colorscale": [
             [
              0,
              "#0d0887"
             ],
             [
              0.1111111111111111,
              "#46039f"
             ],
             [
              0.2222222222222222,
              "#7201a8"
             ],
             [
              0.3333333333333333,
              "#9c179e"
             ],
             [
              0.4444444444444444,
              "#bd3786"
             ],
             [
              0.5555555555555556,
              "#d8576b"
             ],
             [
              0.6666666666666666,
              "#ed7953"
             ],
             [
              0.7777777777777778,
              "#fb9f3a"
             ],
             [
              0.8888888888888888,
              "#fdca26"
             ],
             [
              1,
              "#f0f921"
             ]
            ],
            "type": "histogram2d"
           }
          ],
          "histogram2dcontour": [
           {
            "colorbar": {
             "outlinewidth": 0,
             "ticks": ""
            },
            "colorscale": [
             [
              0,
              "#0d0887"
             ],
             [
              0.1111111111111111,
              "#46039f"
             ],
             [
              0.2222222222222222,
              "#7201a8"
             ],
             [
              0.3333333333333333,
              "#9c179e"
             ],
             [
              0.4444444444444444,
              "#bd3786"
             ],
             [
              0.5555555555555556,
              "#d8576b"
             ],
             [
              0.6666666666666666,
              "#ed7953"
             ],
             [
              0.7777777777777778,
              "#fb9f3a"
             ],
             [
              0.8888888888888888,
              "#fdca26"
             ],
             [
              1,
              "#f0f921"
             ]
            ],
            "type": "histogram2dcontour"
           }
          ],
          "mesh3d": [
           {
            "colorbar": {
             "outlinewidth": 0,
             "ticks": ""
            },
            "type": "mesh3d"
           }
          ],
          "parcoords": [
           {
            "line": {
             "colorbar": {
              "outlinewidth": 0,
              "ticks": ""
             }
            },
            "type": "parcoords"
           }
          ],
          "pie": [
           {
            "automargin": true,
            "type": "pie"
           }
          ],
          "scatter": [
           {
            "marker": {
             "colorbar": {
              "outlinewidth": 0,
              "ticks": ""
             }
            },
            "type": "scatter"
           }
          ],
          "scatter3d": [
           {
            "line": {
             "colorbar": {
              "outlinewidth": 0,
              "ticks": ""
             }
            },
            "marker": {
             "colorbar": {
              "outlinewidth": 0,
              "ticks": ""
             }
            },
            "type": "scatter3d"
           }
          ],
          "scattercarpet": [
           {
            "marker": {
             "colorbar": {
              "outlinewidth": 0,
              "ticks": ""
             }
            },
            "type": "scattercarpet"
           }
          ],
          "scattergeo": [
           {
            "marker": {
             "colorbar": {
              "outlinewidth": 0,
              "ticks": ""
             }
            },
            "type": "scattergeo"
           }
          ],
          "scattergl": [
           {
            "marker": {
             "colorbar": {
              "outlinewidth": 0,
              "ticks": ""
             }
            },
            "type": "scattergl"
           }
          ],
          "scattermapbox": [
           {
            "marker": {
             "colorbar": {
              "outlinewidth": 0,
              "ticks": ""
             }
            },
            "type": "scattermapbox"
           }
          ],
          "scatterpolar": [
           {
            "marker": {
             "colorbar": {
              "outlinewidth": 0,
              "ticks": ""
             }
            },
            "type": "scatterpolar"
           }
          ],
          "scatterpolargl": [
           {
            "marker": {
             "colorbar": {
              "outlinewidth": 0,
              "ticks": ""
             }
            },
            "type": "scatterpolargl"
           }
          ],
          "scatterternary": [
           {
            "marker": {
             "colorbar": {
              "outlinewidth": 0,
              "ticks": ""
             }
            },
            "type": "scatterternary"
           }
          ],
          "surface": [
           {
            "colorbar": {
             "outlinewidth": 0,
             "ticks": ""
            },
            "colorscale": [
             [
              0,
              "#0d0887"
             ],
             [
              0.1111111111111111,
              "#46039f"
             ],
             [
              0.2222222222222222,
              "#7201a8"
             ],
             [
              0.3333333333333333,
              "#9c179e"
             ],
             [
              0.4444444444444444,
              "#bd3786"
             ],
             [
              0.5555555555555556,
              "#d8576b"
             ],
             [
              0.6666666666666666,
              "#ed7953"
             ],
             [
              0.7777777777777778,
              "#fb9f3a"
             ],
             [
              0.8888888888888888,
              "#fdca26"
             ],
             [
              1,
              "#f0f921"
             ]
            ],
            "type": "surface"
           }
          ],
          "table": [
           {
            "cells": {
             "fill": {
              "color": "#EBF0F8"
             },
             "line": {
              "color": "white"
             }
            },
            "header": {
             "fill": {
              "color": "#C8D4E3"
             },
             "line": {
              "color": "white"
             }
            },
            "type": "table"
           }
          ]
         },
         "layout": {
          "annotationdefaults": {
           "arrowcolor": "#2a3f5f",
           "arrowhead": 0,
           "arrowwidth": 1
          },
          "coloraxis": {
           "colorbar": {
            "outlinewidth": 0,
            "ticks": ""
           }
          },
          "colorscale": {
           "diverging": [
            [
             0,
             "#8e0152"
            ],
            [
             0.1,
             "#c51b7d"
            ],
            [
             0.2,
             "#de77ae"
            ],
            [
             0.3,
             "#f1b6da"
            ],
            [
             0.4,
             "#fde0ef"
            ],
            [
             0.5,
             "#f7f7f7"
            ],
            [
             0.6,
             "#e6f5d0"
            ],
            [
             0.7,
             "#b8e186"
            ],
            [
             0.8,
             "#7fbc41"
            ],
            [
             0.9,
             "#4d9221"
            ],
            [
             1,
             "#276419"
            ]
           ],
           "sequential": [
            [
             0,
             "#0d0887"
            ],
            [
             0.1111111111111111,
             "#46039f"
            ],
            [
             0.2222222222222222,
             "#7201a8"
            ],
            [
             0.3333333333333333,
             "#9c179e"
            ],
            [
             0.4444444444444444,
             "#bd3786"
            ],
            [
             0.5555555555555556,
             "#d8576b"
            ],
            [
             0.6666666666666666,
             "#ed7953"
            ],
            [
             0.7777777777777778,
             "#fb9f3a"
            ],
            [
             0.8888888888888888,
             "#fdca26"
            ],
            [
             1,
             "#f0f921"
            ]
           ],
           "sequentialminus": [
            [
             0,
             "#0d0887"
            ],
            [
             0.1111111111111111,
             "#46039f"
            ],
            [
             0.2222222222222222,
             "#7201a8"
            ],
            [
             0.3333333333333333,
             "#9c179e"
            ],
            [
             0.4444444444444444,
             "#bd3786"
            ],
            [
             0.5555555555555556,
             "#d8576b"
            ],
            [
             0.6666666666666666,
             "#ed7953"
            ],
            [
             0.7777777777777778,
             "#fb9f3a"
            ],
            [
             0.8888888888888888,
             "#fdca26"
            ],
            [
             1,
             "#f0f921"
            ]
           ]
          },
          "colorway": [
           "#636efa",
           "#EF553B",
           "#00cc96",
           "#ab63fa",
           "#FFA15A",
           "#19d3f3",
           "#FF6692",
           "#B6E880",
           "#FF97FF",
           "#FECB52"
          ],
          "font": {
           "color": "#2a3f5f"
          },
          "geo": {
           "bgcolor": "white",
           "lakecolor": "white",
           "landcolor": "#E5ECF6",
           "showlakes": true,
           "showland": true,
           "subunitcolor": "white"
          },
          "hoverlabel": {
           "align": "left"
          },
          "hovermode": "closest",
          "mapbox": {
           "style": "light"
          },
          "paper_bgcolor": "white",
          "plot_bgcolor": "#E5ECF6",
          "polar": {
           "angularaxis": {
            "gridcolor": "white",
            "linecolor": "white",
            "ticks": ""
           },
           "bgcolor": "#E5ECF6",
           "radialaxis": {
            "gridcolor": "white",
            "linecolor": "white",
            "ticks": ""
           }
          },
          "scene": {
           "xaxis": {
            "backgroundcolor": "#E5ECF6",
            "gridcolor": "white",
            "gridwidth": 2,
            "linecolor": "white",
            "showbackground": true,
            "ticks": "",
            "zerolinecolor": "white"
           },
           "yaxis": {
            "backgroundcolor": "#E5ECF6",
            "gridcolor": "white",
            "gridwidth": 2,
            "linecolor": "white",
            "showbackground": true,
            "ticks": "",
            "zerolinecolor": "white"
           },
           "zaxis": {
            "backgroundcolor": "#E5ECF6",
            "gridcolor": "white",
            "gridwidth": 2,
            "linecolor": "white",
            "showbackground": true,
            "ticks": "",
            "zerolinecolor": "white"
           }
          },
          "shapedefaults": {
           "line": {
            "color": "#2a3f5f"
           }
          },
          "ternary": {
           "aaxis": {
            "gridcolor": "white",
            "linecolor": "white",
            "ticks": ""
           },
           "baxis": {
            "gridcolor": "white",
            "linecolor": "white",
            "ticks": ""
           },
           "bgcolor": "#E5ECF6",
           "caxis": {
            "gridcolor": "white",
            "linecolor": "white",
            "ticks": ""
           }
          },
          "title": {
           "x": 0.05
          },
          "xaxis": {
           "automargin": true,
           "gridcolor": "white",
           "linecolor": "white",
           "ticks": "",
           "title": {
            "standoff": 15
           },
           "zerolinecolor": "white",
           "zerolinewidth": 2
          },
          "yaxis": {
           "automargin": true,
           "gridcolor": "white",
           "linecolor": "white",
           "ticks": "",
           "title": {
            "standoff": 15
           },
           "zerolinecolor": "white",
           "zerolinewidth": 2
          }
         }
        },
        "xaxis": {
         "anchor": "y",
         "domain": [
          0,
          1
         ],
         "title": {
          "text": "lower_bound"
         }
        },
        "yaxis": {
         "anchor": "x",
         "domain": [
          0,
          1
         ],
         "title": {
          "text": "count"
         }
        }
       }
      }
     },
     "metadata": {},
     "output_type": "display_data"
    }
   ],
   "source": [
    "import plotly.express as px\n",
    "\n",
    "px.bar(df.loc[[500]], x='lower_bound', y='count', hover_data=['lower_bound', 'count', 'min', 'max', 'count_noise'])"
   ]
  },
  {
   "cell_type": "markdown",
   "execution_count": null,
   "metadata": {},
   "outputs": [],
   "source": [
    "### Get a sum of the counts by bucket size"
   ]
  },
  {
   "cell_type": "code",
   "execution_count": 9,
   "metadata": {},
   "outputs": [
    {
     "data": {
      "text/plain": "bucket_size\n1        105120\n10       118677\n50       119646\n500      120064\n2000     120214\n10000    120231\nName: count, dtype: int64"
     },
     "execution_count": 9,
     "metadata": {},
     "output_type": "execute_result"
    }
   ],
   "source": [
    "df['count'].groupby('bucket_size').sum()"
   ]
  },
  {
   "cell_type": "code",
   "execution_count": null,
   "metadata": {},
   "outputs": [],
   "source": []
  }
 ]
}